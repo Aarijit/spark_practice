{
 "cells": [
  {
   "cell_type": "code",
   "execution_count": 1,
   "metadata": {
    "collapsed": false
   },
   "outputs": [
    {
     "data": {
      "text/plain": [
       "198"
      ]
     },
     "execution_count": 1,
     "metadata": {},
     "output_type": "execute_result"
    }
   ],
   "source": [
    "# -*- coding: utf-8 -*-\n",
    "\"\"\"\n",
    "Make sure you give execute privileges\n",
    "-----------------------------------------------------------------------------\n",
    "\n",
    "           Spark with Python: Setup Spyder IDE for Spark\n",
    "\n",
    "             Copyright : V2 Maestros @2016\n",
    "                    \n",
    "Execute this script once when Spyder is started on Windows\n",
    "-----------------------------------------------------------------------------\n",
    "\"\"\"\n",
    "\n",
    "import os\n",
    "import sys\n",
    "os.chdir(\"D:/Big data analytics with apache spark and python Udemy/RB-Python\")\n",
    "os.curdir\n",
    "\n",
    "# Configure the environment. Set this up to the directory where\n",
    "# Spark is installed\n",
    "if 'SPARK_HOME' not in os.environ:\n",
    "    os.environ['SPARK_HOME'] = 'D:/SPARK/spark-1.6.0-bin-hadoop2.6'\n",
    "\n",
    "# Create a variable for our root path\n",
    "SPARK_HOME = os.environ['SPARK_HOME']\n",
    "\n",
    "#Add the following paths to the system path. Please check your installation\n",
    "#to make sure that these zip files actually exist. The names might change\n",
    "#as versions change.\n",
    "sys.path.insert(0,os.path.join(SPARK_HOME,\"python\"))\n",
    "sys.path.insert(0,os.path.join(SPARK_HOME,\"python\",\"lib\"))\n",
    "sys.path.insert(0,os.path.join(SPARK_HOME,\"python\",\"lib\",\"pyspark.zip\"))\n",
    "sys.path.insert(0,os.path.join(SPARK_HOME,\"python\",\"lib\",\"py4j-0.9-src.zip\"))\n",
    "\n",
    "#Initiate Spark context. Once this is done all other applications can run\n",
    "from pyspark import SparkContext\n",
    "from pyspark import SparkConf\n",
    "\n",
    "# Optionally configure Spark Settings\n",
    "conf=SparkConf()\n",
    "conf.set(\"spark.executor.memory\", \"4g\")\n",
    "conf.set(\"spark.cores.max\", \"4\")\n",
    "\n",
    "conf.setAppName(\"ma\")\n",
    "\n",
    "## Initialize SparkContext. Run only once. Otherwise you get multiple \n",
    "#Context Error.\n",
    "sc = SparkContext('local', conf=conf)\n",
    "\n",
    "#Test to make sure everything works.\n",
    "lines=sc.textFile(\"auto-data.csv\")\n",
    "lines.count()\n"
   ]
  },
  {
   "cell_type": "code",
   "execution_count": null,
   "metadata": {
    "collapsed": true
   },
   "outputs": [],
   "source": []
  }
 ],
 "metadata": {
  "kernelspec": {
   "display_name": "Python 2",
   "language": "python",
   "name": "python2"
  },
  "language_info": {
   "codemirror_mode": {
    "name": "ipython",
    "version": 2
   },
   "file_extension": ".py",
   "mimetype": "text/x-python",
   "name": "python",
   "nbconvert_exporter": "python",
   "pygments_lexer": "ipython2",
   "version": "2.7.11"
  }
 },
 "nbformat": 4,
 "nbformat_minor": 0
}
